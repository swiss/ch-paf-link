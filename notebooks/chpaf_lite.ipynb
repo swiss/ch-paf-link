{
 "cells": [
  {
   "cell_type": "markdown",
   "id": "87761ec5",
   "metadata": {},
   "source": [
    "# ch.paf.link Lite\n",
    "\n",
    "Goal is to try a very lightweight ch.paf.link schema that would present a lower adoption barrier.\n",
    "\n",
    "## Design Principles\n",
    "\n",
    "- Activities group together what happened at one time (prov:atTime) or in one time interval (prov:startedAtTime and prov:endedAtTime) and was executed by agents described by a role that in itself clearly defines their contribution to the activity --> time and agend is mandatory\n",
    "- Activities use entities as input and produce entities as output. A single entity can be produced and used at the same time by an activity. It is not per se defined, what input and output means but has to be defined in the application"
   ]
  },
  {
   "cell_type": "code",
   "execution_count": 1,
   "id": "4f4a77e1",
   "metadata": {},
   "outputs": [],
   "source": [
    "from rdf_notebook import query_ttl"
   ]
  },
  {
   "cell_type": "markdown",
   "id": "945a472a",
   "metadata": {},
   "source": [
    "## Office Consultation\n",
    "\n",
    "### Most Basic Model\n",
    "\n",
    "- Entities are not created, but only used\n",
    "- Usage of entities is not repeated within activity stream\n",
    "- No very specific chpaf classes, use paf classes with an additional general chpaf:OfficeConsultation class"
   ]
  },
  {
   "cell_type": "code",
   "execution_count": 10,
   "id": "422553f6",
   "metadata": {},
   "outputs": [],
   "source": [
    "ttl = \"\"\"\n",
    "\n",
    "@prefix chpaf: <https://ch.paf.link/> .\n",
    "@prefix paf: <https://paf.link/> .\n",
    "@prefix prov: <http://www.w3.org/ns/prov#> .\n",
    "@prefix schema: <http://schema.org/> .\n",
    "@prefix xsd: <http://www.w3.org/2001/XMLSchema#> .\n",
    "\n",
    "# identifier entity - no creation\n",
    "<https://politics.ld.admin.ch/parliamentary-affair/23.4022> a paf:IdentifierEntity, chpaf:ParliamentaryAffair ;\n",
    "    schema:identifier \"23.4022\" .\n",
    "\n",
    "# entity representing the consultation itself - no creation\n",
    "<https://politics.ld.admin.ch/office-consultation/OCo_2023.2157/entity> a paf:ConsultationEntity, chpaf:OfficeConsultation ;\n",
    "    schema:description \"Description of the consultation\" ;\n",
    "    schema:name \"Title of the consultation\" .\n",
    "\n",
    "# activity for sending the consultation - with start and end time\n",
    "<https://politics.ld.admin.ch/office-consultation/OCo_2023.2157/consultation-activity> a paf:ConsultationActivity, chpaf:OfficeConsultation ;\n",
    "    prov:startetAtTime \"2023-12-18\"^^xsd:date ;\n",
    "    prov:endedAtTime \"2024-01-15\"^^xsd:date ;\n",
    "    prov:used\n",
    "        <https://politics.ld.admin.ch/parliamentary-affair/23.4022> ,\n",
    "        <https://politics.ld.admin.ch/office-consultation/OCo_2023.2157/entity> ;\n",
    "    prov:qualifiedAssociation [\n",
    "        a prov:Association ;\n",
    "        prov:agent <https://ld.admin.ch/office/III.1.4> ;\n",
    "        prov:hadRole chpaf:OfficeConsultationSender ;\n",
    "    ] ;\n",
    "    prov:qualifiedAssociation [\n",
    "        a prov:Association ;\n",
    "        prov:agent <https://ld.admin.ch/office/II.1.2> ;\n",
    "        prov:hadRole chpaf:OfficeConsultationReceiver ;\n",
    "    ] ;\n",
    "    prov:qualifiedAssociation [\n",
    "        a prov:Association ;\n",
    "        prov:agent <https://ld.admin.ch/office/II.1.3> ;\n",
    "        prov:hadRole chpaf:OfficeConsultationReceiver ;\n",
    "    ] .\n",
    "\n",
    "# entity representing a comment - no creation\n",
    "<https://politics.ld.admin.ch/office-consultation/OCo_2023.2157/comment-entity-1> a paf:CommentEntity, chpaf:OfficeConsultation ;\n",
    "    schema:text \"This is a comment...\" .\n",
    "\n",
    "# activity for commenting\n",
    "<https://politics.ld.admin.ch/office-consultation/OCo_2023.2157/comment-activity-1> a paf:CommentActivity, chpaf:OfficeConsultation ;\n",
    "    prov:wasInformedBy <https://politics.ld.admin.ch/office-consultation/OCo_2023.2157/consultation-activity> ;\n",
    "    prov:atTime \"2024-01-10T10:00:00\"^^xsd:dateTime ;\n",
    "    prov:used <https://politics.ld.admin.ch/office-consultation/OCo_2023.2157/comment-entity-1> ;\n",
    "    prov:qualifiedAssociation [\n",
    "        a prov:Association ;\n",
    "        prov:agent <https://ld.admin.ch/office/II.1.2> ;\n",
    "        prov:hadRole chpaf:OfficeConsultationCommentator ;\n",
    "    ] .\n",
    "\n",
    "\"\"\""
   ]
  },
  {
   "cell_type": "markdown",
   "id": "0d3b8a86",
   "metadata": {},
   "source": [
    "### Querying\n",
    "\n",
    "- All comments to a certain consultation"
   ]
  },
  {
   "cell_type": "code",
   "execution_count": 3,
   "id": "dfff169c",
   "metadata": {},
   "outputs": [
    {
     "data": {
      "text/html": [
       "<div>\n",
       "<style scoped>\n",
       "    .dataframe tbody tr th:only-of-type {\n",
       "        vertical-align: middle;\n",
       "    }\n",
       "\n",
       "    .dataframe tbody tr th {\n",
       "        vertical-align: top;\n",
       "    }\n",
       "\n",
       "    .dataframe thead th {\n",
       "        text-align: right;\n",
       "    }\n",
       "</style>\n",
       "<table border=\"1\" class=\"dataframe\">\n",
       "  <thead>\n",
       "    <tr style=\"text-align: right;\">\n",
       "      <th></th>\n",
       "      <th>comment_entity</th>\n",
       "      <th>comment_text</th>\n",
       "    </tr>\n",
       "  </thead>\n",
       "  <tbody>\n",
       "    <tr>\n",
       "      <th>0</th>\n",
       "      <td>https://politics.ld.admin.ch/office-consultation/OCo_2023.2157/comment-entity-1</td>\n",
       "      <td>This is a comment...</td>\n",
       "    </tr>\n",
       "  </tbody>\n",
       "</table>\n",
       "</div>"
      ],
      "text/plain": [
       "                                                                    comment_entity  \\\n",
       "0  https://politics.ld.admin.ch/office-consultation/OCo_2023.2157/comment-entity-1   \n",
       "\n",
       "           comment_text  \n",
       "0  This is a comment...  "
      ]
     },
     "execution_count": 3,
     "metadata": {},
     "output_type": "execute_result"
    }
   ],
   "source": [
    "query = \"\"\"\n",
    "\n",
    "PREFIX paf: <https://paf.link/>\n",
    "PREFIX chpaf: <https://ch.paf.link/>\n",
    "PREFIX prov: <http://www.w3.org/ns/prov#>\n",
    "PREFIX schema: <http://schema.org/>\n",
    "\n",
    "SELECT * WHERE {\n",
    "\n",
    "    ?comment_entity a paf:CommentEntity, chpaf:OfficeConsultation ;\n",
    "        ^prov:used/prov:wasInformedBy <https://politics.ld.admin.ch/office-consultation/OCo_2023.2157/consultation-activity> ;\n",
    "        schema:text ?comment_text .\n",
    "}\n",
    "\n",
    "\"\"\"\n",
    "\n",
    "query_ttl(ttl, query)"
   ]
  },
  {
   "cell_type": "markdown",
   "id": "fe296f94",
   "metadata": {},
   "source": [
    "- Receivers that did comment"
   ]
  },
  {
   "cell_type": "code",
   "execution_count": 11,
   "id": "cbdcc40a",
   "metadata": {},
   "outputs": [
    {
     "data": {
      "text/html": [
       "<div>\n",
       "<style scoped>\n",
       "    .dataframe tbody tr th:only-of-type {\n",
       "        vertical-align: middle;\n",
       "    }\n",
       "\n",
       "    .dataframe tbody tr th {\n",
       "        vertical-align: top;\n",
       "    }\n",
       "\n",
       "    .dataframe thead th {\n",
       "        text-align: right;\n",
       "    }\n",
       "</style>\n",
       "<table border=\"1\" class=\"dataframe\">\n",
       "  <thead>\n",
       "    <tr style=\"text-align: right;\">\n",
       "      <th></th>\n",
       "      <th>agent</th>\n",
       "    </tr>\n",
       "  </thead>\n",
       "  <tbody>\n",
       "    <tr>\n",
       "      <th>0</th>\n",
       "      <td>https://ld.admin.ch/office/II.1.2</td>\n",
       "    </tr>\n",
       "  </tbody>\n",
       "</table>\n",
       "</div>"
      ],
      "text/plain": [
       "                               agent\n",
       "0  https://ld.admin.ch/office/II.1.2"
      ]
     },
     "execution_count": 11,
     "metadata": {},
     "output_type": "execute_result"
    }
   ],
   "source": [
    "query = \"\"\"\n",
    "\n",
    "PREFIX paf: <https://paf.link/>\n",
    "PREFIX chpaf: <https://ch.paf.link/>\n",
    "PREFIX prov: <http://www.w3.org/ns/prov#>\n",
    "PREFIX schema: <http://schema.org/>\n",
    "\n",
    "SELECT ?agent WHERE {\n",
    "\n",
    "    BIND(<https://politics.ld.admin.ch/office-consultation/OCo_2023.2157/consultation-activity> AS ?consultation_activity) .\n",
    "    \n",
    "    ?consultation_activity prov:qualifiedAssociation ?receiver_assoc .\n",
    "    ?receiver_assoc prov:agent ?agent ;\n",
    "        prov:hadRole chpaf:OfficeConsultationReceiver .\n",
    "\n",
    "    ?comment_activity prov:wasInformedBy ?consultation_activity ; \n",
    "        prov:qualifiedAssociation ?commentator_assoc .\n",
    "    ?commentator_assoc prov:agent ?agent ;\n",
    "        prov:hadRole chpaf:OfficeConsultationCommentator .\n",
    "}\n",
    "\n",
    "\"\"\"\n",
    "\n",
    "query_ttl(ttl, query)"
   ]
  },
  {
   "cell_type": "markdown",
   "id": "d19f5593",
   "metadata": {},
   "source": [
    "- Receivers that did not comment"
   ]
  },
  {
   "cell_type": "code",
   "execution_count": 12,
   "id": "9cd9dd2c",
   "metadata": {},
   "outputs": [
    {
     "data": {
      "text/html": [
       "<div>\n",
       "<style scoped>\n",
       "    .dataframe tbody tr th:only-of-type {\n",
       "        vertical-align: middle;\n",
       "    }\n",
       "\n",
       "    .dataframe tbody tr th {\n",
       "        vertical-align: top;\n",
       "    }\n",
       "\n",
       "    .dataframe thead th {\n",
       "        text-align: right;\n",
       "    }\n",
       "</style>\n",
       "<table border=\"1\" class=\"dataframe\">\n",
       "  <thead>\n",
       "    <tr style=\"text-align: right;\">\n",
       "      <th></th>\n",
       "      <th>agent</th>\n",
       "    </tr>\n",
       "  </thead>\n",
       "  <tbody>\n",
       "    <tr>\n",
       "      <th>0</th>\n",
       "      <td>https://ld.admin.ch/office/II.1.3</td>\n",
       "    </tr>\n",
       "  </tbody>\n",
       "</table>\n",
       "</div>"
      ],
      "text/plain": [
       "                               agent\n",
       "0  https://ld.admin.ch/office/II.1.3"
      ]
     },
     "execution_count": 12,
     "metadata": {},
     "output_type": "execute_result"
    }
   ],
   "source": [
    "query = \"\"\"\n",
    "\n",
    "PREFIX paf: <https://paf.link/>\n",
    "PREFIX chpaf: <https://ch.paf.link/>\n",
    "PREFIX prov: <http://www.w3.org/ns/prov#>\n",
    "PREFIX schema: <http://schema.org/>\n",
    "\n",
    "SELECT ?agent WHERE {\n",
    "\n",
    "    BIND(<https://politics.ld.admin.ch/office-consultation/OCo_2023.2157/consultation-activity> AS ?consultation_activity) .\n",
    "    \n",
    "    ?consultation_activity prov:qualifiedAssociation ?receiver_assoc .\n",
    "    ?receiver_assoc prov:agent ?agent ;\n",
    "        prov:hadRole chpaf:OfficeConsultationReceiver .\n",
    "    \n",
    "    MINUS {    \n",
    "    \n",
    "        ?comment_activity prov:wasInformedBy ?consultation_activity ; \n",
    "            prov:qualifiedAssociation ?commentator_assoc .\n",
    "        ?commentator_assoc prov:agent ?agent ;\n",
    "            prov:hadRole chpaf:OfficeConsultationCommentator .\n",
    "    }\n",
    "\n",
    "}\n",
    "\n",
    "\"\"\"\n",
    "\n",
    "query_ttl(ttl, query)"
   ]
  },
  {
   "cell_type": "markdown",
   "id": "ccc070c9",
   "metadata": {},
   "source": [
    "- Check whether comment is within the correct date"
   ]
  },
  {
   "cell_type": "code",
   "execution_count": 27,
   "id": "6fcd6887",
   "metadata": {},
   "outputs": [
    {
     "data": {
      "text/html": [
       "<div>\n",
       "<style scoped>\n",
       "    .dataframe tbody tr th:only-of-type {\n",
       "        vertical-align: middle;\n",
       "    }\n",
       "\n",
       "    .dataframe tbody tr th {\n",
       "        vertical-align: top;\n",
       "    }\n",
       "\n",
       "    .dataframe thead th {\n",
       "        text-align: right;\n",
       "    }\n",
       "</style>\n",
       "<table border=\"1\" class=\"dataframe\">\n",
       "  <thead>\n",
       "    <tr style=\"text-align: right;\">\n",
       "      <th></th>\n",
       "      <th>status</th>\n",
       "      <th>end_date</th>\n",
       "      <th>start_date</th>\n",
       "      <th>consultation_activity</th>\n",
       "      <th>comment_activity</th>\n",
       "      <th>comment_time</th>\n",
       "    </tr>\n",
       "  </thead>\n",
       "  <tbody>\n",
       "    <tr>\n",
       "      <th>0</th>\n",
       "      <td>within timeframe</td>\n",
       "      <td>2024-01-15</td>\n",
       "      <td>2023-12-18</td>\n",
       "      <td>https://politics.ld.admin.ch/office-consultation/OCo_2023.2157/consultation-activity</td>\n",
       "      <td>https://politics.ld.admin.ch/office-consultation/OCo_2023.2157/comment-activity-1</td>\n",
       "      <td>2024-01-10T10:00:00</td>\n",
       "    </tr>\n",
       "  </tbody>\n",
       "</table>\n",
       "</div>"
      ],
      "text/plain": [
       "             status    end_date  start_date  \\\n",
       "0  within timeframe  2024-01-15  2023-12-18   \n",
       "\n",
       "                                                                  consultation_activity  \\\n",
       "0  https://politics.ld.admin.ch/office-consultation/OCo_2023.2157/consultation-activity   \n",
       "\n",
       "                                                                    comment_activity  \\\n",
       "0  https://politics.ld.admin.ch/office-consultation/OCo_2023.2157/comment-activity-1   \n",
       "\n",
       "          comment_time  \n",
       "0  2024-01-10T10:00:00  "
      ]
     },
     "execution_count": 27,
     "metadata": {},
     "output_type": "execute_result"
    }
   ],
   "source": [
    "query = \"\"\"\n",
    "\n",
    "PREFIX paf: <https://paf.link/>\n",
    "PREFIX chpaf: <https://ch.paf.link/>\n",
    "PREFIX prov: <http://www.w3.org/ns/prov#>\n",
    "PREFIX schema: <http://schema.org/>\n",
    "\n",
    "SELECT * WHERE {\n",
    "\n",
    "    ?comment_activity a paf:CommentActivity, chpaf:OfficeConsultation ;\n",
    "        prov:atTime ?comment_time ;\n",
    "        prov:wasInformedBy ?consultation_activity .\n",
    "\n",
    "    ?consultation_activity a paf:ConsultationActivity, chpaf:OfficeConsultation ;\n",
    "        prov:startetAtTime ?start_date ;\n",
    "        prov:endedAtTime ?end_date .\n",
    "\n",
    "    # casting to xsd:dateTime for comparison works only after casting to string first in rdflib\n",
    "    BIND(IF(?comment_time >= xsd:dateTime(STR(?start_date)) && ?comment_time <= xsd:dateTime(STR(?end_date)), \"within timeframe\", \"out of timeframe\") AS ?status)\n",
    "}\n",
    "\n",
    "\"\"\"\n",
    "\n",
    "query_ttl(ttl, query)"
   ]
  }
 ],
 "metadata": {
  "kernelspec": {
   "display_name": ".venv",
   "language": "python",
   "name": "python3"
  },
  "language_info": {
   "codemirror_mode": {
    "name": "ipython",
    "version": 3
   },
   "file_extension": ".py",
   "mimetype": "text/x-python",
   "name": "python",
   "nbconvert_exporter": "python",
   "pygments_lexer": "ipython3",
   "version": "3.11.11"
  }
 },
 "nbformat": 4,
 "nbformat_minor": 5
}
